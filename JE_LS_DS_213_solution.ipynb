{
  "nbformat": 4,
  "nbformat_minor": 0,
  "metadata": {
    "colab": {
      "name": "JE - Copy of LS_DS_213_solution.ipynb",
      "provenance": [],
      "collapsed_sections": []
    },
    "kernelspec": {
      "display_name": "Python 3",
      "language": "python",
      "name": "python3"
    },
    "language_info": {
      "codemirror_mode": {
        "name": "ipython",
        "version": 3
      },
      "file_extension": ".py",
      "mimetype": "text/x-python",
      "name": "python",
      "nbconvert_exporter": "python",
      "pygments_lexer": "ipython3",
      "version": "3.8.5"
    }
  },
  "cells": [
    {
      "cell_type": "markdown",
      "metadata": {
        "id": "BqHhEqmNgpsE"
      },
      "source": [
        "Lambda School Data Science\n",
        "\n",
        "*Unit 2, Sprint 1, Module 3*\n",
        "\n",
        "---"
      ]
    },
    {
      "cell_type": "code",
      "metadata": {
        "id": "aqokBAq5gpsK"
      },
      "source": [
        "%%capture\n",
        "import sys\n",
        "\n",
        "# If you're on Colab:\n",
        "if 'google.colab' in sys.modules:\n",
        "    DATA_PATH = 'https://raw.githubusercontent.com/LambdaSchool/DS-Unit-2-Applied-Modeling/master/data/'\n",
        "    !pip install category_encoders==2.*\n",
        "\n",
        "# If you're working locally:\n",
        "#else:\n",
        "    #DATA_PATH = '../data/'\n",
        "\n"
      ],
      "execution_count": 1,
      "outputs": []
    },
    {
      "cell_type": "markdown",
      "metadata": {
        "id": "eWjyUn1dgpsL"
      },
      "source": [
        "# Module Project: Ridge Regression\n",
        "\n",
        "For this project, you'll return to the Tribecca Condo dataset. But this time, you'll look at the _entire_ dataset and try to predict property sale prices.\n",
        "\n",
        "The [NYC Department of Finance](https://www1.nyc.gov/site/finance/taxes/property-rolling-sales-data.page) has a glossary of property sales terms and NYC Building Class Code Descriptions. The data comes from the [NYC OpenData](https://data.cityofnewyork.us/browse?q=NYC%20calendar%20sales) portal.\n",
        "\n",
        "## Directions\n",
        "\n",
        "The tasks for this project are the following:\n",
        "\n",
        "- **Task 1:** Import `csv` file using `wrangle` function.\n",
        "- **Task 2:** Conduct exploratory data analysis (EDA), and modify `wrangle` function to engineer two subset your dataset to one-family dwellings whose price is between \\\\$100,000 and \\\\$2,000,000.\n",
        "- **Task 3:** Split data into feature matrix `X` and target vector `y`.\n",
        "- **Task 4:** Split feature matrix `X` and target vector `y` into training and test sets.\n",
        "- **Task 5:** Establish the baseline mean absolute error for your dataset.\n",
        "- **Task 6:** Build and train a `OneHotEncoder`, and transform `X_train` and `X_test`.\n",
        "- **Task 7:** Build and train a `LinearRegression` model.\n",
        "- **Task 8:** Build and train a `Ridge` model.\n",
        "- **Task 9:** Calculate the training and test mean absolute error for your `LinearRegression` model.\n",
        "- **Task 10:** Calculate the training and test mean absolute error for your `Ridge` model.\n",
        "- **Task 11:** Create a horizontal bar chart showing the 10 most influencial features for your `Ridge` model. \n",
        "\n",
        "**Note**\n",
        "\n",
        "You should limit yourself to the following libraries for this project:\n",
        "\n",
        "- `category_encoders`\n",
        "- `matplotlib`\n",
        "- `pandas`\n",
        "- `sklearn`"
      ]
    },
    {
      "cell_type": "markdown",
      "metadata": {
        "id": "V8xcGqYAgpsM"
      },
      "source": [
        "# I. Wrangle Data"
      ]
    },
    {
      "cell_type": "code",
      "metadata": {
        "id": "AKP7_bG4gpsM"
      },
      "source": [
        "from sklearn.feature_selection import SelectKBest, f_regression\n",
        "from sklearn.linear_model import LinearRegression, Ridge\n",
        "from sklearn.metrics import mean_absolute_error, mean_squared_error\n",
        "from sklearn.pipeline import make_pipeline\n",
        "import numpy as np\n",
        "import matplotlib.pyplot as plt\n",
        "import pandas as pd\n",
        "import datetime\n",
        "\n",
        "def wrangle(filepath):\n",
        "    # Import csv file\n",
        "    cols = ['BOROUGH', 'NEIGHBORHOOD',\n",
        "            'BUILDING CLASS CATEGORY', 'GROSS SQUARE FEET',  \n",
        "            'YEAR BUILT', 'SALE PRICE', 'SALE DATE']\n",
        "    df = pd.read_csv(filepath, usecols=cols, parse_dates=['SALE DATE'],index_col='SALE DATE')\n",
        "    #df['SALE PRICE'] = df['SALE PRICE'].astype(int)\n",
        "    #df['BOROUGH'] = df['BOROUGH'].astype(object)\n",
        "    df['BOROUGH'] = df['BOROUGH'].astype(object)\n",
        "    df['SALE PRICE'] = df['SALE PRICE'].str.replace('$', '')\n",
        "    df['SALE PRICE'] = df['SALE PRICE'].str.replace('-', '')\n",
        "    df['SALE PRICE'] = df['SALE PRICE'].str.replace(' ', '')\n",
        "    df['SALE PRICE'] = df['SALE PRICE'].str.replace(',', '')\n",
        "    df['SALE PRICE'] = df['SALE PRICE'].astype(int)\n",
        "    df_filtered = df[(df['BUILDING CLASS CATEGORY'] == '01 ONE FAMILY DWELLINGS')]\n",
        "    df_filtered = df[(df['SALE PRICE'] >= 100000) & (df['SALE PRICE'] <= 2000000)]\n",
        "    df_filtered.dropna(inplace=True)\n",
        "    return df_filtered\n",
        "\n",
        "filepath = (DATA_PATH +'condos/NYC_Citywide_Rolling_Calendar_Sales.csv')"
      ],
      "execution_count": 2,
      "outputs": []
    },
    {
      "cell_type": "markdown",
      "metadata": {
        "id": "vtwD-1mtgpsM"
      },
      "source": [
        "**Task 1:** Use the above `wrangle` function to import the `NYC_Citywide_Rolling_Calendar_Sales.csv` file into a DataFrame named `df`."
      ]
    },
    {
      "cell_type": "code",
      "metadata": {
        "id": "xDr_fb2gD8H5"
      },
      "source": [
        "#df = df[(df['closing_price'] >= 99) & (df['closing_price'] <= 101)]"
      ],
      "execution_count": 3,
      "outputs": []
    },
    {
      "cell_type": "code",
      "metadata": {
        "id": "La6tB_gl_5F_"
      },
      "source": [
        "#df[(condition1)&(condition2)]"
      ],
      "execution_count": 4,
      "outputs": []
    },
    {
      "cell_type": "code",
      "metadata": {
        "id": "ID2yNh83Cy4b"
      },
      "source": [
        "#\\$100,000 and \\$2,000,000"
      ],
      "execution_count": 5,
      "outputs": []
    },
    {
      "cell_type": "code",
      "metadata": {
        "id": "OLy0brGdgpsN",
        "colab": {
          "base_uri": "https://localhost:8080/"
        },
        "outputId": "8bfb04f3-2f57-4051-bdfb-bf688fc6729a"
      },
      "source": [
        "df = wrangle(filepath)"
      ],
      "execution_count": 6,
      "outputs": [
        {
          "output_type": "stream",
          "text": [
            "/usr/local/lib/python3.7/dist-packages/ipykernel_launcher.py:26: SettingWithCopyWarning: \n",
            "A value is trying to be set on a copy of a slice from a DataFrame\n",
            "\n",
            "See the caveats in the documentation: https://pandas.pydata.org/pandas-docs/stable/user_guide/indexing.html#returning-a-view-versus-a-copy\n"
          ],
          "name": "stderr"
        }
      ]
    },
    {
      "cell_type": "code",
      "metadata": {
        "colab": {
          "base_uri": "https://localhost:8080/"
        },
        "id": "czcV2v_J1L8c",
        "outputId": "9ec4dfce-d10b-4f3d-e945-63b2f01b011d"
      },
      "source": [
        "df.shape"
      ],
      "execution_count": 7,
      "outputs": [
        {
          "output_type": "execute_result",
          "data": {
            "text/plain": [
              "(13448, 6)"
            ]
          },
          "metadata": {
            "tags": []
          },
          "execution_count": 7
        }
      ]
    },
    {
      "cell_type": "code",
      "metadata": {
        "colab": {
          "base_uri": "https://localhost:8080/"
        },
        "id": "vP4ageLJ1Nl_",
        "outputId": "0da25a98-2a1e-4049-c0f7-145670b2edd8"
      },
      "source": [
        "df.info()"
      ],
      "execution_count": 8,
      "outputs": [
        {
          "output_type": "stream",
          "text": [
            "<class 'pandas.core.frame.DataFrame'>\n",
            "DatetimeIndex: 13448 entries, 2019-01-01 to 2019-04-30\n",
            "Data columns (total 6 columns):\n",
            " #   Column                   Non-Null Count  Dtype  \n",
            "---  ------                   --------------  -----  \n",
            " 0   BOROUGH                  13448 non-null  object \n",
            " 1   NEIGHBORHOOD             13448 non-null  object \n",
            " 2   BUILDING CLASS CATEGORY  13448 non-null  object \n",
            " 3   GROSS SQUARE FEET        13448 non-null  float64\n",
            " 4   YEAR BUILT               13448 non-null  float64\n",
            " 5   SALE PRICE               13448 non-null  int64  \n",
            "dtypes: float64(2), int64(1), object(3)\n",
            "memory usage: 735.4+ KB\n"
          ],
          "name": "stdout"
        }
      ]
    },
    {
      "cell_type": "code",
      "metadata": {
        "colab": {
          "base_uri": "https://localhost:8080/",
          "height": 693
        },
        "id": "Pc5WaXRd2Ehr",
        "outputId": "516db23c-c47e-4f38-e0e5-0b5514658094"
      },
      "source": [
        "df.tail(20)"
      ],
      "execution_count": 9,
      "outputs": [
        {
          "output_type": "execute_result",
          "data": {
            "text/html": [
              "<div>\n",
              "<style scoped>\n",
              "    .dataframe tbody tr th:only-of-type {\n",
              "        vertical-align: middle;\n",
              "    }\n",
              "\n",
              "    .dataframe tbody tr th {\n",
              "        vertical-align: top;\n",
              "    }\n",
              "\n",
              "    .dataframe thead th {\n",
              "        text-align: right;\n",
              "    }\n",
              "</style>\n",
              "<table border=\"1\" class=\"dataframe\">\n",
              "  <thead>\n",
              "    <tr style=\"text-align: right;\">\n",
              "      <th></th>\n",
              "      <th>BOROUGH</th>\n",
              "      <th>NEIGHBORHOOD</th>\n",
              "      <th>BUILDING CLASS CATEGORY</th>\n",
              "      <th>GROSS SQUARE FEET</th>\n",
              "      <th>YEAR BUILT</th>\n",
              "      <th>SALE PRICE</th>\n",
              "    </tr>\n",
              "    <tr>\n",
              "      <th>SALE DATE</th>\n",
              "      <th></th>\n",
              "      <th></th>\n",
              "      <th></th>\n",
              "      <th></th>\n",
              "      <th></th>\n",
              "      <th></th>\n",
              "    </tr>\n",
              "  </thead>\n",
              "  <tbody>\n",
              "    <tr>\n",
              "      <th>2019-04-30</th>\n",
              "      <td>4</td>\n",
              "      <td>JAMAICA</td>\n",
              "      <td>01 ONE FAMILY DWELLINGS</td>\n",
              "      <td>1492.0</td>\n",
              "      <td>1920.0</td>\n",
              "      <td>1350000</td>\n",
              "    </tr>\n",
              "    <tr>\n",
              "      <th>2019-04-30</th>\n",
              "      <td>4</td>\n",
              "      <td>KEW GARDENS</td>\n",
              "      <td>10 COOPS - ELEVATOR APARTMENTS</td>\n",
              "      <td>0.0</td>\n",
              "      <td>1942.0</td>\n",
              "      <td>430000</td>\n",
              "    </tr>\n",
              "    <tr>\n",
              "      <th>2019-04-30</th>\n",
              "      <td>4</td>\n",
              "      <td>KEW GARDENS</td>\n",
              "      <td>17 CONDO COOPS</td>\n",
              "      <td>0.0</td>\n",
              "      <td>1960.0</td>\n",
              "      <td>560000</td>\n",
              "    </tr>\n",
              "    <tr>\n",
              "      <th>2019-04-30</th>\n",
              "      <td>4</td>\n",
              "      <td>LAURELTON</td>\n",
              "      <td>01 ONE FAMILY DWELLINGS</td>\n",
              "      <td>1422.0</td>\n",
              "      <td>1935.0</td>\n",
              "      <td>574850</td>\n",
              "    </tr>\n",
              "    <tr>\n",
              "      <th>2019-04-30</th>\n",
              "      <td>4</td>\n",
              "      <td>LITTLE NECK</td>\n",
              "      <td>01 ONE FAMILY DWELLINGS</td>\n",
              "      <td>1170.0</td>\n",
              "      <td>1955.0</td>\n",
              "      <td>900000</td>\n",
              "    </tr>\n",
              "    <tr>\n",
              "      <th>2019-04-30</th>\n",
              "      <td>4</td>\n",
              "      <td>LONG ISLAND CITY</td>\n",
              "      <td>13 CONDOS - ELEVATOR APARTMENTS</td>\n",
              "      <td>755.0</td>\n",
              "      <td>2010.0</td>\n",
              "      <td>892500</td>\n",
              "    </tr>\n",
              "    <tr>\n",
              "      <th>2019-04-30</th>\n",
              "      <td>4</td>\n",
              "      <td>OAKLAND GARDENS</td>\n",
              "      <td>01 ONE FAMILY DWELLINGS</td>\n",
              "      <td>896.0</td>\n",
              "      <td>1950.0</td>\n",
              "      <td>655000</td>\n",
              "    </tr>\n",
              "    <tr>\n",
              "      <th>2019-04-30</th>\n",
              "      <td>4</td>\n",
              "      <td>REGO PARK</td>\n",
              "      <td>01 ONE FAMILY DWELLINGS</td>\n",
              "      <td>1755.0</td>\n",
              "      <td>1950.0</td>\n",
              "      <td>800000</td>\n",
              "    </tr>\n",
              "    <tr>\n",
              "      <th>2019-04-30</th>\n",
              "      <td>4</td>\n",
              "      <td>RICHMOND HILL</td>\n",
              "      <td>02 TWO FAMILY DWELLINGS</td>\n",
              "      <td>1376.0</td>\n",
              "      <td>1930.0</td>\n",
              "      <td>690000</td>\n",
              "    </tr>\n",
              "    <tr>\n",
              "      <th>2019-04-30</th>\n",
              "      <td>4</td>\n",
              "      <td>ROSEDALE</td>\n",
              "      <td>01 ONE FAMILY DWELLINGS</td>\n",
              "      <td>1478.0</td>\n",
              "      <td>1925.0</td>\n",
              "      <td>635000</td>\n",
              "    </tr>\n",
              "    <tr>\n",
              "      <th>2019-04-30</th>\n",
              "      <td>4</td>\n",
              "      <td>SOUTH JAMAICA</td>\n",
              "      <td>02 TWO FAMILY DWELLINGS</td>\n",
              "      <td>1968.0</td>\n",
              "      <td>1901.0</td>\n",
              "      <td>367500</td>\n",
              "    </tr>\n",
              "    <tr>\n",
              "      <th>2019-04-30</th>\n",
              "      <td>4</td>\n",
              "      <td>SOUTH OZONE PARK</td>\n",
              "      <td>01 ONE FAMILY DWELLINGS</td>\n",
              "      <td>1280.0</td>\n",
              "      <td>1930.0</td>\n",
              "      <td>514000</td>\n",
              "    </tr>\n",
              "    <tr>\n",
              "      <th>2019-04-30</th>\n",
              "      <td>4</td>\n",
              "      <td>SOUTH OZONE PARK</td>\n",
              "      <td>01 ONE FAMILY DWELLINGS</td>\n",
              "      <td>1333.0</td>\n",
              "      <td>1945.0</td>\n",
              "      <td>635000</td>\n",
              "    </tr>\n",
              "    <tr>\n",
              "      <th>2019-04-30</th>\n",
              "      <td>4</td>\n",
              "      <td>SPRINGFIELD GARDENS</td>\n",
              "      <td>01 ONE FAMILY DWELLINGS</td>\n",
              "      <td>1020.0</td>\n",
              "      <td>1935.0</td>\n",
              "      <td>545000</td>\n",
              "    </tr>\n",
              "    <tr>\n",
              "      <th>2019-04-30</th>\n",
              "      <td>4</td>\n",
              "      <td>SPRINGFIELD GARDENS</td>\n",
              "      <td>02 TWO FAMILY DWELLINGS</td>\n",
              "      <td>2136.0</td>\n",
              "      <td>1945.0</td>\n",
              "      <td>875000</td>\n",
              "    </tr>\n",
              "    <tr>\n",
              "      <th>2019-04-30</th>\n",
              "      <td>4</td>\n",
              "      <td>ST. ALBANS</td>\n",
              "      <td>01 ONE FAMILY DWELLINGS</td>\n",
              "      <td>1224.0</td>\n",
              "      <td>1945.0</td>\n",
              "      <td>510000</td>\n",
              "    </tr>\n",
              "    <tr>\n",
              "      <th>2019-04-30</th>\n",
              "      <td>4</td>\n",
              "      <td>SUNNYSIDE</td>\n",
              "      <td>09 COOPS - WALKUP APARTMENTS</td>\n",
              "      <td>0.0</td>\n",
              "      <td>1929.0</td>\n",
              "      <td>355000</td>\n",
              "    </tr>\n",
              "    <tr>\n",
              "      <th>2019-04-30</th>\n",
              "      <td>4</td>\n",
              "      <td>SUNNYSIDE</td>\n",
              "      <td>10 COOPS - ELEVATOR APARTMENTS</td>\n",
              "      <td>0.0</td>\n",
              "      <td>1932.0</td>\n",
              "      <td>375000</td>\n",
              "    </tr>\n",
              "    <tr>\n",
              "      <th>2019-04-30</th>\n",
              "      <td>4</td>\n",
              "      <td>WOODHAVEN</td>\n",
              "      <td>02 TWO FAMILY DWELLINGS</td>\n",
              "      <td>2200.0</td>\n",
              "      <td>1931.0</td>\n",
              "      <td>1100000</td>\n",
              "    </tr>\n",
              "    <tr>\n",
              "      <th>2019-04-30</th>\n",
              "      <td>4</td>\n",
              "      <td>WOODSIDE</td>\n",
              "      <td>12 CONDOS - WALKUP APARTMENTS</td>\n",
              "      <td>854.0</td>\n",
              "      <td>1927.0</td>\n",
              "      <td>569202</td>\n",
              "    </tr>\n",
              "  </tbody>\n",
              "</table>\n",
              "</div>"
            ],
            "text/plain": [
              "           BOROUGH         NEIGHBORHOOD  ... YEAR BUILT  SALE PRICE\n",
              "SALE DATE                                ...                       \n",
              "2019-04-30       4              JAMAICA  ...     1920.0     1350000\n",
              "2019-04-30       4          KEW GARDENS  ...     1942.0      430000\n",
              "2019-04-30       4          KEW GARDENS  ...     1960.0      560000\n",
              "2019-04-30       4            LAURELTON  ...     1935.0      574850\n",
              "2019-04-30       4          LITTLE NECK  ...     1955.0      900000\n",
              "2019-04-30       4     LONG ISLAND CITY  ...     2010.0      892500\n",
              "2019-04-30       4      OAKLAND GARDENS  ...     1950.0      655000\n",
              "2019-04-30       4            REGO PARK  ...     1950.0      800000\n",
              "2019-04-30       4        RICHMOND HILL  ...     1930.0      690000\n",
              "2019-04-30       4             ROSEDALE  ...     1925.0      635000\n",
              "2019-04-30       4        SOUTH JAMAICA  ...     1901.0      367500\n",
              "2019-04-30       4     SOUTH OZONE PARK  ...     1930.0      514000\n",
              "2019-04-30       4     SOUTH OZONE PARK  ...     1945.0      635000\n",
              "2019-04-30       4  SPRINGFIELD GARDENS  ...     1935.0      545000\n",
              "2019-04-30       4  SPRINGFIELD GARDENS  ...     1945.0      875000\n",
              "2019-04-30       4           ST. ALBANS  ...     1945.0      510000\n",
              "2019-04-30       4            SUNNYSIDE  ...     1929.0      355000\n",
              "2019-04-30       4            SUNNYSIDE  ...     1932.0      375000\n",
              "2019-04-30       4            WOODHAVEN  ...     1931.0     1100000\n",
              "2019-04-30       4             WOODSIDE  ...     1927.0      569202\n",
              "\n",
              "[20 rows x 6 columns]"
            ]
          },
          "metadata": {
            "tags": []
          },
          "execution_count": 9
        }
      ]
    },
    {
      "cell_type": "code",
      "metadata": {
        "colab": {
          "base_uri": "https://localhost:8080/"
        },
        "id": "PUyxyJ_V3dKc",
        "outputId": "8e84a8f8-c8db-45eb-cb1c-8ab2d4ef3af5"
      },
      "source": [
        "df.info"
      ],
      "execution_count": 10,
      "outputs": [
        {
          "output_type": "execute_result",
          "data": {
            "text/plain": [
              "<bound method DataFrame.info of            BOROUGH             NEIGHBORHOOD  ... YEAR BUILT  SALE PRICE\n",
              "SALE DATE                                    ...                       \n",
              "2019-01-01       3      OCEAN PARKWAY-NORTH  ...     1930.0      550000\n",
              "2019-01-01       4           QUEENS VILLAGE  ...     1940.0      200000\n",
              "2019-01-02       1                  CHELSEA  ...     2013.0     2000000\n",
              "2019-01-02       1             MIDTOWN EAST  ...     1960.0      330000\n",
              "2019-01-02       1  UPPER EAST SIDE (79-96)  ...     1925.0      600000\n",
              "...            ...                      ...  ...        ...         ...\n",
              "2019-04-30       4               ST. ALBANS  ...     1945.0      510000\n",
              "2019-04-30       4                SUNNYSIDE  ...     1929.0      355000\n",
              "2019-04-30       4                SUNNYSIDE  ...     1932.0      375000\n",
              "2019-04-30       4                WOODHAVEN  ...     1931.0     1100000\n",
              "2019-04-30       4                 WOODSIDE  ...     1927.0      569202\n",
              "\n",
              "[13448 rows x 6 columns]>"
            ]
          },
          "metadata": {
            "tags": []
          },
          "execution_count": 10
        }
      ]
    },
    {
      "cell_type": "markdown",
      "metadata": {
        "id": "eKrn_K8hgpsN"
      },
      "source": [
        "**Task 2:** Modify the above `wrangle` function so that:\n",
        "\n",
        "- The column `'SALE DATE'` becomes the `DatetimeIndex`.\n",
        "- The dtype for the `'BOROUGH'` column is `object`, not `int`.\n",
        "- The dtype for the `'SALE PRICE'` column is `int`, not `object`.\n",
        "- The dataset includes only one-family dwellings (`BUILDING CLASS CATEGORY == '01 ONE FAMILY DWELLINGS'`).\n",
        "- The dataset includes only properties whose sale price is between \\\\$100,000 and \\\\$2,000,000."
      ]
    },
    {
      "cell_type": "code",
      "metadata": {
        "id": "q19wwrOsgpsN"
      },
      "source": [
        "# Perform your exploratory data analysis here and\n",
        "# modify the wrangle function above"
      ],
      "execution_count": 11,
      "outputs": []
    },
    {
      "cell_type": "markdown",
      "metadata": {
        "id": "ECwxrFjOgpsN"
      },
      "source": [
        "# II. Split Data\n",
        "\n",
        "**Task 3:** Split your dataset into the feature matrix `X` and the target vector `y`. You want to predict `'SALE_PRICE'`."
      ]
    },
    {
      "cell_type": "code",
      "metadata": {
        "id": "g5OV65smgpsO"
      },
      "source": [
        "target = 'SALE PRICE'\n",
        "X = df.drop(columns=target)\n",
        "y = df[target]"
      ],
      "execution_count": 12,
      "outputs": []
    },
    {
      "cell_type": "markdown",
      "metadata": {
        "id": "6oIfP8vegpsO"
      },
      "source": [
        "**Task 4:** Split `X` and `y` into a training set (`X_train`, `y_train`) and a test set (`X_test`, `y_test`).\n",
        "\n",
        "- Your training set should include data from January to March 2019. \n",
        "- Your test set should include data from April 2019."
      ]
    },
    {
      "cell_type": "code",
      "metadata": {
        "id": "v1-aWgY2gpsO"
      },
      "source": [
        "cutoff = '2019-04-01'\n",
        "mask = X.index < cutoff\n",
        "\n",
        "X_train, y_train = X.loc[mask], y.loc[mask]\n",
        "X_test, y_test = X.loc[~mask], y.loc[~mask]"
      ],
      "execution_count": 13,
      "outputs": []
    },
    {
      "cell_type": "markdown",
      "metadata": {
        "id": "5GYQSo8EgpsO"
      },
      "source": [
        "# III. Establish Baseline\n",
        "\n",
        "**Task 5:** Since this is a **regression** problem, you need to calculate the baseline mean absolute error for your model."
      ]
    },
    {
      "cell_type": "code",
      "metadata": {
        "id": "FzIhq1U2gpsP",
        "colab": {
          "base_uri": "https://localhost:8080/"
        },
        "outputId": "4be0816d-f3b2-43eb-f8f5-b68d3a20568a"
      },
      "source": [
        "y_pred = [y_train.mean()] * len(y_train)\n",
        "\n",
        "baseline_mae = mean_absolute_error(y_train, y_pred)\n",
        "print('Baseline MAE:', baseline_mae)"
      ],
      "execution_count": 14,
      "outputs": [
        {
          "output_type": "stream",
          "text": [
            "Baseline MAE: 318959.14090258954\n"
          ],
          "name": "stdout"
        }
      ]
    },
    {
      "cell_type": "markdown",
      "metadata": {
        "id": "VQ_dcaQ9gpsP"
      },
      "source": [
        "# IV. Build Model \n",
        "\n",
        "**Task 6:** Build and train a `OneHotEncoder` and then use it to transform `X_train` and `X_test`."
      ]
    },
    {
      "cell_type": "code",
      "metadata": {
        "id": "EQbRiwQLgpsP",
        "colab": {
          "base_uri": "https://localhost:8080/"
        },
        "outputId": "d165421c-579c-42ea-94e1-5a1110f62f06"
      },
      "source": [
        "from category_encoders import OneHotEncoder\n",
        "\n",
        "ohe = OneHotEncoder(use_cat_names=True)\n",
        "ohe.fit(X_train)\n",
        "XT_train = ohe.transform(X_train)\n",
        "XT_test = ohe.transform(X_test)"
      ],
      "execution_count": 15,
      "outputs": [
        {
          "output_type": "stream",
          "text": [
            "/usr/local/lib/python3.7/dist-packages/statsmodels/tools/_testing.py:19: FutureWarning: pandas.util.testing is deprecated. Use the functions in the public API at pandas.testing instead.\n",
            "  import pandas.util.testing as tm\n",
            "/usr/local/lib/python3.7/dist-packages/category_encoders/utils.py:21: FutureWarning: is_categorical is deprecated and will be removed in a future version.  Use is_categorical_dtype instead\n",
            "  elif pd.api.types.is_categorical(cols):\n"
          ],
          "name": "stderr"
        }
      ]
    },
    {
      "cell_type": "markdown",
      "metadata": {
        "id": "SREnEcdigpsP"
      },
      "source": [
        "**Task 7:** Build and train a `LinearRegression` model named `model_lr`. Remember to train your model using your _transformed_ feature matrix."
      ]
    },
    {
      "cell_type": "code",
      "metadata": {
        "id": "s-GS8UELgpsQ",
        "colab": {
          "base_uri": "https://localhost:8080/"
        },
        "outputId": "6ef9c847-f53c-42b4-b506-0dafdb7d5469"
      },
      "source": [
        "model_lr = LinearRegression()\n",
        "model_lr.fit(XT_train, y_train)"
      ],
      "execution_count": 16,
      "outputs": [
        {
          "output_type": "execute_result",
          "data": {
            "text/plain": [
              "LinearRegression(copy_X=True, fit_intercept=True, n_jobs=None, normalize=False)"
            ]
          },
          "metadata": {
            "tags": []
          },
          "execution_count": 16
        }
      ]
    },
    {
      "cell_type": "markdown",
      "metadata": {
        "id": "_VtfAJsmgpsQ"
      },
      "source": [
        "**Task 8:** Build and train a `Ridge` model named `model_r`. Remember to train your model using your _transformed_ feature matrix."
      ]
    },
    {
      "cell_type": "code",
      "metadata": {
        "id": "yOQdeW9ygpsQ",
        "colab": {
          "base_uri": "https://localhost:8080/"
        },
        "outputId": "63d4f3a7-c494-4a5b-f4e8-c841ec5f034a"
      },
      "source": [
        "model_r = Ridge(alpha=1.0)\n",
        "model_r.fit(XT_train, y_train)"
      ],
      "execution_count": 17,
      "outputs": [
        {
          "output_type": "execute_result",
          "data": {
            "text/plain": [
              "Ridge(alpha=1.0, copy_X=True, fit_intercept=True, max_iter=None,\n",
              "      normalize=False, random_state=None, solver='auto', tol=0.001)"
            ]
          },
          "metadata": {
            "tags": []
          },
          "execution_count": 17
        }
      ]
    },
    {
      "cell_type": "markdown",
      "metadata": {
        "id": "CigCSM3MgpsQ"
      },
      "source": [
        "# V. Check Metrics\n",
        "\n",
        "**Task 9:** Check the training and test metrics for `model_lr`."
      ]
    },
    {
      "cell_type": "code",
      "metadata": {
        "id": "Uw542KoDgpsQ",
        "colab": {
          "base_uri": "https://localhost:8080/"
        },
        "outputId": "9cb6992a-efaf-486e-9e58-d4f5842e86fe"
      },
      "source": [
        "training_mae_lr = mean_absolute_error(y_train, model_lr.predict(XT_train))\n",
        "test_mae_lr = mean_absolute_error(y_test, model_lr.predict(XT_test))\n",
        "\n",
        "print('Linear Training MAE:', training_mae_lr)\n",
        "print('Linear Test MAE:', test_mae_lr)"
      ],
      "execution_count": 18,
      "outputs": [
        {
          "output_type": "stream",
          "text": [
            "Linear Training MAE: 206234.1582141175\n",
            "Linear Test MAE: 1009926649.7767904\n"
          ],
          "name": "stdout"
        }
      ]
    },
    {
      "cell_type": "markdown",
      "metadata": {
        "id": "VJT6xh9hgpsQ"
      },
      "source": [
        "**Task 10:** Check the training and test metrics for `model_r`."
      ]
    },
    {
      "cell_type": "code",
      "metadata": {
        "id": "pTs-wm6UgpsR",
        "colab": {
          "base_uri": "https://localhost:8080/"
        },
        "outputId": "3803945a-1f3d-480e-9cf7-45d0ae827b05"
      },
      "source": [
        "training_mae_r = mean_absolute_error(y_train, model_r.predict(XT_train))\n",
        "test_mae_r = mean_absolute_error(y_test, model_r.predict(XT_test))\n",
        "\n",
        "print('Ridge Training MAE:', training_mae_r)\n",
        "print('Ridge Test MAE:', test_mae_r)"
      ],
      "execution_count": 19,
      "outputs": [
        {
          "output_type": "stream",
          "text": [
            "Ridge Training MAE: 206574.3084593476\n",
            "Ridge Test MAE: 218007.39599252865\n"
          ],
          "name": "stdout"
        }
      ]
    },
    {
      "cell_type": "markdown",
      "metadata": {
        "id": "CmHazGfJgpsR"
      },
      "source": [
        "**Stretch Goal:** Calculate the training and test $R^2$ scores `model_r`."
      ]
    },
    {
      "cell_type": "code",
      "metadata": {
        "id": "cGac3mt3gpsR",
        "colab": {
          "base_uri": "https://localhost:8080/"
        },
        "outputId": "f28b6189-5844-4530-b338-73daff5d8509"
      },
      "source": [
        "# Caculate R^2 score\n",
        "model_r_train_r2_score = model_r.score(XT_train, y_train)\n",
        "model_r_test_r2_score = model_r.score(XT_test, y_test)\n",
        "\n",
        "print('Linear Regression R^2:', model_r_train_r2_score)\n",
        "print('Ridge Regression R^2:', model_r_test_r2_score)"
      ],
      "execution_count": 22,
      "outputs": [
        {
          "output_type": "stream",
          "text": [
            "Linear Regression R^2: 0.5052206755366226\n",
            "Ridge Regression R^2: 0.4902470357171631\n"
          ],
          "name": "stdout"
        }
      ]
    },
    {
      "cell_type": "markdown",
      "metadata": {
        "id": "94uVSwqdgpsR"
      },
      "source": [
        "# IV. Communicate Results\n",
        "\n",
        "**Task 11:** Create a horizontal barchart that plots the 10 most important coefficients for `model_r`, sorted by absolute value. Your figure should look like our example from class:\n",
        "\n",
        "![](data:image/png;base64,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)\n",
        "\n",
        "**Note:** Your figure shouldn't be identical to the one above. Your model will have different coefficients since it's been trained on different data. Only the formatting should be the same."
      ]
    },
    {
      "cell_type": "code",
      "metadata": {
        "id": "U8ubgNYVgpsX",
        "colab": {
          "base_uri": "https://localhost:8080/",
          "height": 295
        },
        "outputId": "a93a95b4-6d36-4bf2-f610-658a24c0b736"
      },
      "source": [
        "coefficients = model_lr.coef_\n",
        "features = ohe.get_feature_names()\n",
        "feat_imp = pd.Series(coefficients, index=features).sort_values(key=abs)\n",
        "feat_imp.tail(10).plot(kind='barh')\n",
        "plt.xlabel('Coefficient [$]')\n",
        "plt.ylabel('Feature')\n",
        "plt.title('Coefficients for Linear Regression');"
      ],
      "execution_count": 23,
      "outputs": [
        {
          "output_type": "display_data",
          "data": {
            "image/png": "[encoded data removed]",
            "text/plain": [
              "<Figure size 432x288 with 1 Axes>"
            ]
          },
          "metadata": {
            "tags": [],
            "needs_background": "light"
          }
        }
      ]
    }
  ]
}